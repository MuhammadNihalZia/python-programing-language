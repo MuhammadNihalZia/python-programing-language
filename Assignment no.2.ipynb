{
 "cells": [
  {
   "cell_type": "code",
   "execution_count": 11,
   "metadata": {},
   "outputs": [
    {
     "name": "stdout",
     "output_type": "stream",
     "text": [
      "Enter Your Name : Nihal\n",
      "Enter Your Roll No. : 22443\n",
      "Enter Chemistry Marks Out Of 100 : 80\n",
      "Enter Your Physics Marks Out Of 100 : 70\n",
      "Enter Your Mathimatics Marks Out Of 100 : 50\n",
      "Enter Your Islamiyat Marks Out Of 100 : 90\n",
      "Enter Your Pst Marks Out Of 100 : 60\n",
      "Name :  Nihal\n",
      "Roll :  22443\n",
      "Chmentiry Marks :  80\n",
      "Physics Marks :  70\n",
      "Mathimatics Marks :  50\n",
      "Islamiat Marks :  90\n",
      "Pakistan Studies :  60\n",
      "Total Marks :  350\n",
      "Percentage :  70\n",
      "Grade : A\n"
     ]
    }
   ],
   "source": [
    "name= input(\"Enter Your Name : \")\n",
    "roll= int(input(\"Enter Your Roll No. : \"))\n",
    "chem= int(input(\"Enter Chemistry Marks Out Of 100 : \"))\n",
    "phy=  int(input(\"Enter Your Physics Marks Out Of 100 : \"))\n",
    "math= int(input(\"Enter Your Mathimatics Marks Out Of 100 : \"))\n",
    "islam=int(input(\"Enter Your Islamiyat Marks Out Of 100 : \"))\n",
    "pst=  int(input(\"Enter Your Pst Marks Out Of 100 : \"))\n",
    "total= chem + phy + math + islam + pst\n",
    "per= (total*100) // 500\n",
    "print(\"Name : \", name) \n",
    "print(\"Roll : \", roll)\n",
    "print(\"Chmentiry Marks : \", chem)\n",
    "print(\"Physics Marks : \", phy)\n",
    "print(\"Mathimatics Marks : \", math)\n",
    "print(\"Islamiat Marks : \", islam)\n",
    "print(\"Pakistan Studies : \", pst)\n",
    "print(\"Total Marks : \", total)\n",
    "print(\"Percentage : \", per)\n",
    "if per >= 80 and per <=100:\n",
    "    print(\"Grade : A+\")\n",
    "elif per >=70 and per <80:\n",
    "    print(\"Grade : A\")\n",
    "elif per >=60 and per <70:\n",
    "    print(\"Grade : B\")\n",
    "elif per >=50 and per <60:\n",
    "    print(\"Grade : C\")\n",
    "elif per >=40 and per<50:\n",
    "    print(\"Grade : D\")\n",
    "elif per >=33 and per <40:\n",
    "    print(\"Grade : E\")\n",
    "elif per <33:\n",
    "    print(\"Grade : Fail\")\n",
    "else :\n",
    "    print(\"You Write Inappropiat Percentage\")"
   ]
  },
  {
   "cell_type": "code",
   "execution_count": 1,
   "metadata": {},
   "outputs": [
    {
     "name": "stdout",
     "output_type": "stream",
     "text": [
      "Enter a number: 25\n",
      "25 is Odd\n"
     ]
    }
   ],
   "source": [
    "num = int(input(\"Enter a number: \"))\n",
    "if (num % 2) == 0:\n",
    "    print(\"{0} is Even\". format(num))\n",
    "else:\n",
    "    print(\"{0} is Odd\". format(num))\n",
    "    \n"
   ]
  },
  {
   "cell_type": "code",
   "execution_count": 6,
   "metadata": {},
   "outputs": [
    {
     "name": "stdout",
     "output_type": "stream",
     "text": [
      "The length of list is:   4\n"
     ]
    }
   ],
   "source": [
    "n = len([20, 40, 50, 40])\n",
    "print(\"The length of list is:  \", n)\n"
   ]
  },
  {
   "cell_type": "code",
   "execution_count": 8,
   "metadata": {},
   "outputs": [
    {
     "name": "stdout",
     "output_type": "stream",
     "text": [
      "24\n"
     ]
    }
   ],
   "source": [
    "def sum(numbers):\n",
    "    total = 0\n",
    "    for x in numbers:\n",
    "        total += x\n",
    "    return total\n",
    "print(sum((10, 4, 3, 0, 7)))"
   ]
  },
  {
   "cell_type": "code",
   "execution_count": 9,
   "metadata": {},
   "outputs": [
    {
     "name": "stdout",
     "output_type": "stream",
     "text": [
      "10\n"
     ]
    }
   ],
   "source": [
    "def max_num_in_list( list ):\n",
    "    max = list[ 0 ]\n",
    "    for a in list:\n",
    "        if a > max:\n",
    "            max = a\n",
    "    return max\n",
    "print(max_num_in_list([1, 10, -8, 0]))"
   ]
  },
  {
   "cell_type": "code",
   "execution_count": 10,
   "metadata": {},
   "outputs": [
    {
     "name": "stdout",
     "output_type": "stream",
     "text": [
      "[1, 1, 2, 3]\n"
     ]
    }
   ],
   "source": [
    "def elements_lessthan_five(l):\n",
    "    l1=[]\n",
    "    for i in l:\n",
    "        if i<5:\n",
    "            l1.append(i)\n",
    "            \n",
    "    return(l1)\n",
    "    \n",
    "print(elements_lessthan_five([1, 1, 2, 3, 5, 8, 13, 21, 34, 55, 89]))"
   ]
  }
 ],
 "metadata": {
  "kernelspec": {
   "display_name": "Python 3",
   "language": "python",
   "name": "python3"
  },
  "language_info": {
   "codemirror_mode": {
    "name": "ipython",
    "version": 3
   },
   "file_extension": ".py",
   "mimetype": "text/x-python",
   "name": "python",
   "nbconvert_exporter": "python",
   "pygments_lexer": "ipython3",
   "version": "3.7.4"
  }
 },
 "nbformat": 4,
 "nbformat_minor": 2
}
